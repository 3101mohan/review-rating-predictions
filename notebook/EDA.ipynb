{
 "cells": [
  {
   "cell_type": "code",
   "execution_count": 3,
   "id": "35f69b1f",
   "metadata": {},
   "outputs": [
    {
     "name": "stdout",
     "output_type": "stream",
     "text": [
      "--- 1. Loading and Sampling Data ---\n",
      "Successfully downsampled to 200000 rows for analysis.\n",
      "Data ready. Shape: (200000, 9)\n",
      "\n",
      "--- 2. Advanced Distribution Analysis ---\n"
     ]
    },
    {
     "name": "stderr",
     "output_type": "stream",
     "text": [
      "C:\\Users\\Mohan-Lakshmi\\AppData\\Local\\Temp\\ipykernel_12936\\1047202734.py:50: FutureWarning: \n",
      "\n",
      "Passing `palette` without assigning `hue` is deprecated and will be removed in v0.14.0. Assign the `x` variable to `hue` and set `legend=False` for the same effect.\n",
      "\n",
      "  sns.countplot(x='rating', data=df, palette='viridis')\n"
     ]
    },
    {
     "name": "stdout",
     "output_type": "stream",
     "text": [
      "Saved 01_rating_distribution.png\n"
     ]
    },
    {
     "name": "stderr",
     "output_type": "stream",
     "text": [
      "C:\\Users\\Mohan-Lakshmi\\AppData\\Local\\Temp\\ipykernel_12936\\1047202734.py:63: FutureWarning: \n",
      "\n",
      "Passing `palette` without assigning `hue` is deprecated and will be removed in v0.14.0. Assign the `x` variable to `hue` and set `legend=False` for the same effect.\n",
      "\n",
      "  sns.boxplot(x='rating', y='review_length', data=df, showfliers=False, palette='coolwarm')\n"
     ]
    },
    {
     "name": "stdout",
     "output_type": "stream",
     "text": [
      "Saved 02_length_vs_rating_boxplot.png\n",
      "Saved 03_user_frequency.png\n",
      "\n",
      "--- 3. Feature Correlation Analysis ---\n",
      "Saved 04_correlation_matrix.png\n",
      "\n",
      "Key Feature Correlation Summary:\n",
      "Correlation (Rating vs. Avg. Rating): 0.36\n",
      "Correlation (Rating vs. Log User Frequency): 0.02\n",
      "\n",
      "Advanced EDA Complete. Charts saved in the 'eda_charts_advanced' folder.\n"
     ]
    }
   ],
   "source": [
    "import pandas as pd\n",
    "import numpy as np\n",
    "import matplotlib.pyplot as plt\n",
    "import seaborn as sns\n",
    "import os\n",
    "import re\n",
    "\n",
    "# --- Configuration ---\n",
    "CLEAN_DATA_PATH = r\"D:\\Intelligent Review Rating Prediction Using AI and LLMs\\data\\clean_combined_data.csv\"\n",
    "DATA_LIMIT = 200000 # Use the same downsampled size as the final model\n",
    "RANDOM_SEED = 42\n",
    "EDA_OUTPUT_FOLDER = 'eda_charts_advanced'\n",
    "\n",
    "# --- Setup ---\n",
    "if not os.path.exists(EDA_OUTPUT_FOLDER):\n",
    "    os.makedirs(EDA_OUTPUT_FOLDER)\n",
    "\n",
    "# --- 1. Load and Sample Data (Matching Training Setup) ---\n",
    "print(\"--- 1. Loading and Sampling Data ---\")\n",
    "try:\n",
    "    df = pd.read_csv(CLEAN_DATA_PATH)\n",
    "    \n",
    "    # Downsample the data to match the training size\n",
    "    if len(df) > DATA_LIMIT:\n",
    "        df = df.sample(n=DATA_LIMIT, random_state=RANDOM_SEED).reset_index(drop=True)\n",
    "        print(f\"Successfully downsampled to {DATA_LIMIT} rows for analysis.\")\n",
    "    \n",
    "    # --- FIX: Calculate User Frequency and Log Frequency (MISSING COLUMNS) ---\n",
    "    # The 'user_frequency' column was not saved in the clean CSV, so we recalculate it.\n",
    "    user_counts = df['user_id'].value_counts()\n",
    "    df['user_frequency'] = df['user_id'].map(user_counts)\n",
    "    \n",
    "    # Create the 'review_length' feature for analysis\n",
    "    df['review_length'] = df['consolidated_text'].apply(lambda x: len(str(x).split()))\n",
    "    \n",
    "    # Log transform user frequency for correlation analysis (used in plotting)\n",
    "    df['user_frequency_log'] = np.log1p(df['user_frequency'])\n",
    "    \n",
    "    print(f\"Data ready. Shape: {df.shape}\")\n",
    "\n",
    "except FileNotFoundError:\n",
    "    print(f\"Error: Clean data file not found at {CLEAN_DATA_PATH}.\")\n",
    "    exit()\n",
    "\n",
    "# --- 2. Advanced Distribution Analysis ---\n",
    "print(\"\\n--- 2. Advanced Distribution Analysis ---\")\n",
    "\n",
    "## 2.1 Star Rating Distribution\n",
    "plt.figure(figsize=(8, 5))\n",
    "sns.countplot(x='rating', data=df, palette='viridis')\n",
    "plt.title('Distribution of Target Variable (Star Ratings)')\n",
    "plt.xlabel('Star Rating')\n",
    "plt.ylabel('Count')\n",
    "plt.grid(axis='y', alpha=0.5)\n",
    "plt.savefig(os.path.join(EDA_OUTPUT_FOLDER, '01_rating_distribution.png'))\n",
    "plt.close()\n",
    "print(\"Saved 01_rating_distribution.png\")\n",
    "\n",
    "## 2.2 Review Length vs. Rating\n",
    "# Reviews tend to be longer for 1-star (detailed complaints) and 5-star (enthusiastic praise).\n",
    "plt.figure(figsize=(10, 6))\n",
    "# Showfliers=False removes extreme outliers for a cleaner look\n",
    "sns.boxplot(x='rating', y='review_length', data=df, showfliers=False, palette='coolwarm') \n",
    "plt.title('Review Length Distribution by Star Rating (Outliers Removed)')\n",
    "plt.xlabel('Star Rating')\n",
    "plt.ylabel('Review Length (Word Count)')\n",
    "plt.savefig(os.path.join(EDA_OUTPUT_FOLDER, '02_length_vs_rating_boxplot.png'))\n",
    "plt.close()\n",
    "print(\"Saved 02_length_vs_rating_boxplot.png\")\n",
    "\n",
    "## 2.3 User Activity (Frequency) Distribution\n",
    "plt.figure(figsize=(8, 5))\n",
    "# Use the newly calculated 'user_frequency' column\n",
    "sns.histplot(df['user_frequency'], bins=50, log_scale=True, kde=True, color='skyblue')\n",
    "plt.title('Distribution of User Review Frequency (Log Scale)')\n",
    "plt.xlabel('Review Count per User')\n",
    "plt.ylabel('Number of Users')\n",
    "plt.savefig(os.path.join(EDA_OUTPUT_FOLDER, '03_user_frequency.png'))\n",
    "plt.close()\n",
    "print(\"Saved 03_user_frequency.png\")\n",
    "\n",
    "\n",
    "# --- 3. Feature Correlation Analysis ---\n",
    "print(\"\\n--- 3. Feature Correlation Analysis ---\")\n",
    "\n",
    "## 3.1 Correlation Matrix of Numerical Features\n",
    "# Correlation between the target (rating) and the engineered features (log-transformed frequency, length, avg_rating).\n",
    "numerical_features = df[['rating', 'average_rating', 'user_frequency_log', 'review_length']].copy()\n",
    "correlation_matrix = numerical_features.corr()\n",
    "\n",
    "plt.figure(figsize=(7, 6))\n",
    "sns.heatmap(correlation_matrix, annot=True, cmap='coolwarm', fmt=\".2f\", linewidths=.5, linecolor='black')\n",
    "plt.title('Correlation Matrix of Numerical Features')\n",
    "plt.savefig(os.path.join(EDA_OUTPUT_FOLDER, '04_correlation_matrix.png'))\n",
    "plt.close()\n",
    "print(\"Saved 04_correlation_matrix.png\")\n",
    "\n",
    "# Key Takeaway\n",
    "print(\"\\nKey Feature Correlation Summary:\")\n",
    "print(f\"Correlation (Rating vs. Avg. Rating): {correlation_matrix.loc['rating', 'average_rating']:.2f}\")\n",
    "print(f\"Correlation (Rating vs. Log User Frequency): {correlation_matrix.loc['rating', 'user_frequency_log']:.2f}\")\n",
    "\n",
    "print(\"\\nAdvanced EDA Complete. Charts saved in the 'eda_charts_advanced' folder.\")\n"
   ]
  }
 ],
 "metadata": {
  "kernelspec": {
   "display_name": ".venv",
   "language": "python",
   "name": "python3"
  },
  "language_info": {
   "codemirror_mode": {
    "name": "ipython",
    "version": 3
   },
   "file_extension": ".py",
   "mimetype": "text/x-python",
   "name": "python",
   "nbconvert_exporter": "python",
   "pygments_lexer": "ipython3",
   "version": "3.10.8"
  }
 },
 "nbformat": 4,
 "nbformat_minor": 5
}
